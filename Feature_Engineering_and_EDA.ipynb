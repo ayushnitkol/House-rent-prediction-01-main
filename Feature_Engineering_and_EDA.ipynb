{
  "cells": [
    {
      "cell_type": "markdown",
      "metadata": {
        "id": "2x8sXkdSevy-"
      },
      "source": [
        "# Aim: To Predict Monthly House Rent in Mumbai City with given Data. \n",
        "\n",
        "## Approch: \n",
        "- Import Dataset and have a Quick look at it.\n",
        "- Analyze and Clean Data. Look into each and every feature and make them clean for use.\n",
        "- Remove Outliers and exception data by visualizing features.\n",
        "- Visualize and have a look how features related with monthly rent.\n",
        "- Prepare hand engineered features and Scale Data for Machine learning model.\n",
        "- Try Different ML models and calculate their accuracy scores.\n",
        "- Fine tune the model using GridsearchCV and Select best model.\n",
        "\n",
        "#In this notebook we will focus on cleaning and preparing data. \n",
        "\n",
        "[Machine Learning modeling notebook](https://github.com/G0rav/House_Rent_Predictor/blob/main/HouseRentModel.ipynb)\n",
        "\n"
      ]
    },
    {
      "cell_type": "markdown",
      "metadata": {
        "id": "Zb6IqPezevzC"
      },
      "source": [
        "# 1.Importing Data and required packages."
      ]
    },
    {
      "cell_type": "code",
      "execution_count": null,
      "metadata": {
        "colab": {
          "base_uri": "https://localhost:8080/"
        },
        "id": "XXlB34oz6u_e",
        "outputId": "a4d7e8be-1296-4044-da60-fdc4c87a6d8c"
      },
      "outputs": [
        {
          "ename": "ModuleNotFoundError",
          "evalue": "No module named 'google'",
          "output_type": "error",
          "traceback": [
            "\u001b[31m---------------------------------------------------------------------------\u001b[39m",
            "\u001b[31mModuleNotFoundError\u001b[39m                       Traceback (most recent call last)",
            "\u001b[36mCell\u001b[39m\u001b[36m \u001b[39m\u001b[32mIn[1]\u001b[39m\u001b[32m, line 1\u001b[39m\n\u001b[32m----> \u001b[39m\u001b[32m1\u001b[39m \u001b[38;5;28;01mfrom\u001b[39;00m\u001b[38;5;250m \u001b[39m\u001b[34;01mgoogle\u001b[39;00m\u001b[34;01m.\u001b[39;00m\u001b[34;01mcolab\u001b[39;00m\u001b[38;5;250m \u001b[39m\u001b[38;5;28;01mimport\u001b[39;00m drive\n\u001b[32m      2\u001b[39m drive.mount(\u001b[33m'\u001b[39m\u001b[33m/content/drive\u001b[39m\u001b[33m'\u001b[39m)\n",
            "\u001b[31mModuleNotFoundError\u001b[39m: No module named 'google'"
          ]
        }
      ],
      "source": [
        "from google.colab import drive\n",
        "drive.mount('/content/drive')"
      ]
    },
    {
      "cell_type": "code",
      "execution_count": null,
      "metadata": {
        "id": "NhH8f4nHevzD"
      },
      "outputs": [],
      "source": [
        "import numpy as np\n",
        "import pandas as pd\n",
        "import seaborn as sns\n",
        "import matplotlib.pyplot as plt\n",
        "import warnings                                             # only to ignore python warnings\n",
        "%matplotlib inline\n",
        "warnings.simplefilter(\"ignore\")"
      ]
    },
    {
      "cell_type": "code",
      "execution_count": null,
      "metadata": {
        "colab": {
          "base_uri": "https://localhost:8080/",
          "height": 366
        },
        "id": "aEu5-tTOevzJ",
        "outputId": "00c47d0e-816c-4fb4-d1be-d35708f4e3f0"
      },
      "outputs": [],
      "source": [
        "data = pd.read_csv('/content/drive/MyDrive/Datasets/Mumbai_house_rent_99acers/Mumbai_99acers.csv')\n",
        "data.head(3)"
      ]
    },
    {
      "cell_type": "markdown",
      "metadata": {
        "id": "munekpWKe6R8"
      },
      "source": [
        "# 2.Quick Analyzing Data. \n",
        "<a href = '#top'>Back on Top</a>"
      ]
    },
    {
      "cell_type": "code",
      "execution_count": null,
      "metadata": {
        "colab": {
          "base_uri": "https://localhost:8080/"
        },
        "id": "VrQhas-LevzP",
        "outputId": "1009e763-5f36-4823-bf06-0444a17bb676",
        "scrolled": false
      },
      "outputs": [],
      "source": [
        "data.info()"
      ]
    },
    {
      "cell_type": "code",
      "execution_count": null,
      "metadata": {
        "id": "b5di4rDmQUFS"
      },
      "outputs": [],
      "source": [
        "df = data.copy()"
      ]
    },
    {
      "cell_type": "markdown",
      "metadata": {
        "id": "_oJvw6zIevzY"
      },
      "source": [
        "###  Dropping useless features. (In my view, as per requirements) "
      ]
    },
    {
      "cell_type": "code",
      "execution_count": null,
      "metadata": {
        "colab": {
          "base_uri": "https://localhost:8080/"
        },
        "id": "WiLDvTcYevzY",
        "outputId": "d14892d1-5608-49b3-eae4-2b9f3c45dc34"
      },
      "outputs": [],
      "source": [
        "df = df.drop(df.iloc[:,[0,4,5,12,13,15,16,17,18,19,20,21]],axis = 1)\n",
        "df.head()"
      ]
    },
    {
      "cell_type": "code",
      "execution_count": null,
      "metadata": {
        "colab": {
          "base_uri": "https://localhost:8080/"
        },
        "id": "ynq5ovCIevzb",
        "outputId": "158e7041-9656-4e2b-dae4-862d4e25d34c",
        "scrolled": true
      },
      "outputs": [],
      "source": [
        "df.isnull().sum()"
      ]
    },
    {
      "cell_type": "code",
      "execution_count": null,
      "metadata": {
        "colab": {
          "base_uri": "https://localhost:8080/"
        },
        "id": "oSGqqAyievzf",
        "outputId": "cf7e5fb9-2e70-4658-fb6c-140e9663fd3c"
      },
      "outputs": [],
      "source": [
        "df.dtypes"
      ]
    },
    {
      "cell_type": "markdown",
      "metadata": {
        "id": "q-T7wmegevzi"
      },
      "source": [
        "### Removing useless spaces from non-numeric columns, just in case if they have. "
      ]
    },
    {
      "cell_type": "code",
      "execution_count": null,
      "metadata": {
        "id": "GZVEhzV2evzi"
      },
      "outputs": [],
      "source": [
        "for i in df.columns.drop(['built-up area','monthly rent']):\n",
        "    df[i] = df[i].apply(lambda x: x.strip())"
      ]
    },
    {
      "cell_type": "code",
      "execution_count": null,
      "metadata": {
        "colab": {
          "base_uri": "https://localhost:8080/"
        },
        "id": "cUuLP6npevzk",
        "outputId": "95ea97ff-a7a6-4bdf-a099-d9aec17c7399",
        "scrolled": false
      },
      "outputs": [],
      "source": [
        "df.head()"
      ]
    },
    {
      "cell_type": "markdown",
      "metadata": {
        "id": "Sn8bLmNzeY9f"
      },
      "source": [
        "# 3.Feature Engineering\n",
        "\n",
        " <a href = '#top'>Back on Top </a>"
      ]
    },
    {
      "cell_type": "markdown",
      "metadata": {
        "id": "ixKClJyoAvYI"
      },
      "source": [
        "## Handling categorical columns\n",
        "\n",
        "<a href = '#top'>Back on Top </a>"
      ]
    },
    {
      "cell_type": "markdown",
      "metadata": {
        "id": "43xawoPeevzq"
      },
      "source": [
        "### Merging societies having count less than 10."
      ]
    },
    {
      "cell_type": "code",
      "execution_count": null,
      "metadata": {
        "colab": {
          "base_uri": "https://localhost:8080/"
        },
        "id": "CbFyyDyPevzr",
        "outputId": "893767bb-8e9e-459c-b978-9e09b0612f9d",
        "scrolled": false
      },
      "outputs": [],
      "source": [
        "society_count = pd.DataFrame(df['society'].value_counts())\n",
        "society_count"
      ]
    },
    {
      "cell_type": "code",
      "execution_count": null,
      "metadata": {
        "colab": {
          "base_uri": "https://localhost:8080/"
        },
        "id": "FHvEsFtu_yKg",
        "outputId": "afc7ee60-ba48-4695-93b0-2944e410e271"
      },
      "outputs": [],
      "source": [
        "society_count[society_count['society']<10].shape"
      ]
    },
    {
      "cell_type": "code",
      "execution_count": null,
      "metadata": {
        "id": "UtjkEfK2evzx"
      },
      "outputs": [],
      "source": [
        "society_count_less_than_10_index_list = society_count[society_count['society']<10].index\n",
        "df['society'] = df['society'].apply(lambda x: 'other society' if x in society_count_less_than_10_index_list else x)"
      ]
    },
    {
      "cell_type": "code",
      "execution_count": null,
      "metadata": {
        "colab": {
          "base_uri": "https://localhost:8080/"
        },
        "id": "MLnWkJREevzz",
        "outputId": "cc0d348d-7bce-4ed9-893d-5edf89be55f8"
      },
      "outputs": [],
      "source": [
        "df['society'].value_counts()"
      ]
    },
    {
      "cell_type": "code",
      "execution_count": null,
      "metadata": {
        "colab": {
          "base_uri": "https://localhost:8080/"
        },
        "id": "KItGFbwpBEWE",
        "outputId": "821bc3fd-c6ce-44a5-ae97-17dd05909e51"
      },
      "outputs": [],
      "source": [
        "sc = pd.DataFrame(df['society'].value_counts().iloc[1:,])\n",
        "\n",
        "plt.figure(figsize=(8,28))\n",
        "sns.barplot(x = 'society', y = sc.index, data=sc)\n",
        "plt.show()"
      ]
    },
    {
      "cell_type": "markdown",
      "metadata": {
        "id": "vzh_r_DSAc44"
      },
      "source": [
        "### type column"
      ]
    },
    {
      "cell_type": "code",
      "execution_count": null,
      "metadata": {
        "colab": {
          "base_uri": "https://localhost:8080/"
        },
        "id": "DD8me2dFAgH8",
        "outputId": "c6faad00-4ef1-4f02-fe70-ba69b2de7a15"
      },
      "outputs": [],
      "source": [
        "df['type'].value_counts()"
      ]
    },
    {
      "cell_type": "markdown",
      "metadata": {
        "id": "iUfwdrpoev0F"
      },
      "source": [
        "### Merging locations having count less than 10. only to simplify our model."
      ]
    },
    {
      "cell_type": "code",
      "execution_count": null,
      "metadata": {
        "colab": {
          "base_uri": "https://localhost:8080/"
        },
        "id": "LtStm8wIev0F",
        "outputId": "d91e6d43-4cdb-4f37-cf6e-808f3be22537",
        "scrolled": true
      },
      "outputs": [],
      "source": [
        "location_count = pd.DataFrame(df['location'].value_counts())\n",
        "location_count"
      ]
    },
    {
      "cell_type": "code",
      "execution_count": null,
      "metadata": {
        "id": "aqvPp8Dvev0K"
      },
      "outputs": [],
      "source": [
        "location_count_less_than_10_index = location_count[location_count['location']<10].index\n",
        "df['location'] = df['location'].apply(lambda x: 'other location' if x in location_count_less_than_10_index else x)"
      ]
    },
    {
      "cell_type": "code",
      "execution_count": null,
      "metadata": {
        "colab": {
          "base_uri": "https://localhost:8080/"
        },
        "id": "BlzmKWDdev0M",
        "outputId": "5e2e4b4d-74a6-4c2b-8c44-e3369134bed9"
      },
      "outputs": [],
      "source": [
        "df['location'].value_counts()"
      ]
    },
    {
      "cell_type": "code",
      "execution_count": null,
      "metadata": {
        "colab": {
          "base_uri": "https://localhost:8080/"
        },
        "id": "zgm4oGGHHRWq",
        "outputId": "b169e631-b6a5-495e-d739-39adbd45629a"
      },
      "outputs": [],
      "source": [
        "location_count = pd.DataFrame(df['location'].value_counts().iloc[1:,])\n",
        "\n",
        "plt.figure(figsize=(8,28))\n",
        "sns.barplot(x = 'location', y = location_count.index, data=location_count)\n",
        "plt.show()"
      ]
    },
    {
      "cell_type": "markdown",
      "metadata": {
        "id": "OiO2uvEpH3If"
      },
      "source": [
        "### furnishing"
      ]
    },
    {
      "cell_type": "code",
      "execution_count": null,
      "metadata": {
        "colab": {
          "base_uri": "https://localhost:8080/"
        },
        "id": "kFij3HfAH6KA",
        "outputId": "cad48fee-bf1b-47f8-c6da-ae6c13c5bc99"
      },
      "outputs": [],
      "source": [
        "df.furnishing.value_counts()"
      ]
    },
    {
      "cell_type": "code",
      "execution_count": null,
      "metadata": {
        "colab": {
          "base_uri": "https://localhost:8080/"
        },
        "id": "9POagHlUJS6D",
        "outputId": "33a18e5a-2c24-4961-cef0-ae41fc442ddd"
      },
      "outputs": [],
      "source": [
        "plt.pie(df.furnishing.value_counts(), labels = df.furnishing.value_counts().index)\n",
        "plt.show()"
      ]
    },
    {
      "cell_type": "markdown",
      "metadata": {
        "id": "m9BmIX8DNZvX"
      },
      "source": [
        "### Age"
      ]
    },
    {
      "cell_type": "code",
      "execution_count": null,
      "metadata": {
        "colab": {
          "base_uri": "https://localhost:8080/"
        },
        "id": "25fMWeU-Nc1u",
        "outputId": "991f9ca4-dfdd-4dd4-d1a2-cb32faad8598"
      },
      "outputs": [],
      "source": [
        "df.age.value_counts()"
      ]
    },
    {
      "cell_type": "markdown",
      "metadata": {
        "id": "8DqAJBNZHsmq"
      },
      "source": [
        "## Handling numerical data\n",
        "\n",
        "<a href = '#top'>Back on Top </a>"
      ]
    },
    {
      "cell_type": "markdown",
      "metadata": {
        "id": "fLhjVQkYev0P"
      },
      "source": [
        "### Extracting only numerals from bedrooms column."
      ]
    },
    {
      "cell_type": "code",
      "execution_count": null,
      "metadata": {
        "colab": {
          "base_uri": "https://localhost:8080/"
        },
        "id": "_r4l4xggev0P",
        "outputId": "dfb78ac7-be3d-42d0-a1d6-5d4ed3763ab1",
        "scrolled": true
      },
      "outputs": [],
      "source": [
        "df['bedrooms'].value_counts()"
      ]
    },
    {
      "cell_type": "code",
      "execution_count": null,
      "metadata": {
        "colab": {
          "base_uri": "https://localhost:8080/"
        },
        "id": "i2UlRrp0ev0S",
        "outputId": "9813ce7a-2fb4-4f5c-d16e-198e30bdc8a3"
      },
      "outputs": [],
      "source": [
        "df['bedrooms'] = df['bedrooms'].apply(lambda x: x.strip(' ')[0])\n",
        "df['bedrooms'].value_counts()"
      ]
    },
    {
      "cell_type": "markdown",
      "metadata": {
        "id": "-IrlSgaOevz3"
      },
      "source": [
        "### Making floor and total floors = 0 for Independent House/Villa"
      ]
    },
    {
      "cell_type": "code",
      "execution_count": null,
      "metadata": {
        "colab": {
          "base_uri": "https://localhost:8080/"
        },
        "id": "vdmsD-5oevz6",
        "outputId": "82ad869a-576c-45cc-9ee1-377d9dd7e0c0",
        "scrolled": true
      },
      "outputs": [],
      "source": [
        "df[df['type'] == 'Independent House/Villa']"
      ]
    },
    {
      "cell_type": "code",
      "execution_count": null,
      "metadata": {
        "id": "9cZ19T6Oev0A"
      },
      "outputs": [],
      "source": [
        "type_index_list = df[df['type'] == 'Independent House/Villa'].index\n",
        "\n",
        "for i in type_index_list:\n",
        "    df['floor'][i] = 0\n",
        "    df['total floors'][i] = 0"
      ]
    },
    {
      "cell_type": "markdown",
      "metadata": {
        "id": "XNUj91Weev0k"
      },
      "source": [
        "### Cleaning floor column"
      ]
    },
    {
      "cell_type": "code",
      "execution_count": null,
      "metadata": {
        "colab": {
          "base_uri": "https://localhost:8080/"
        },
        "id": "UncbcwYGev0l",
        "outputId": "30a20fe6-013d-4c7c-fd01-5ec112e0a72b"
      },
      "outputs": [],
      "source": [
        "df['floor'].unique()"
      ]
    },
    {
      "cell_type": "code",
      "execution_count": null,
      "metadata": {
        "id": "Caujy4pxev0n"
      },
      "outputs": [],
      "source": [
        "df.replace({'floor': ['Ground','ried']}, 0, inplace =True)\n",
        "df.replace({'floor': '40+'},41, inplace =True)\n",
        "df.replace({'floor': 'Not Mentioned'}, np.NaN, inplace =True)\n",
        "df = df.replace({'floor': '[A-Za-z]'}, ' ', regex = True)\n",
        "df['floor'] = df['floor'].astype(str)\n",
        "df['floor'] = df['floor'].apply(lambda x: x.strip())\n",
        "df = df.dropna()"
      ]
    },
    {
      "cell_type": "code",
      "execution_count": null,
      "metadata": {
        "colab": {
          "base_uri": "https://localhost:8080/"
        },
        "id": "woYl7q6NSWdg",
        "outputId": "cfa8d9a1-8787-4bb7-f4c1-cae68c1602ce"
      },
      "outputs": [],
      "source": [
        "df = df.drop(df[df['floor']=='nan'].index, axis=0)\n",
        "df['floor'].unique()"
      ]
    },
    {
      "cell_type": "code",
      "execution_count": null,
      "metadata": {
        "colab": {
          "base_uri": "https://localhost:8080/"
        },
        "id": "95X0A7Urev04",
        "outputId": "ba9e57c3-825e-472c-88be-47280720d958"
      },
      "outputs": [],
      "source": [
        "df['total floors'].unique()"
      ]
    },
    {
      "cell_type": "code",
      "execution_count": null,
      "metadata": {
        "colab": {
          "base_uri": "https://localhost:8080/"
        },
        "id": "NG6mqivIev06",
        "outputId": "6276d733-0478-4269-ca05-9f88147c6ce8"
      },
      "outputs": [],
      "source": [
        "(df['total floors'] == 'Not Mentioned').sum()"
      ]
    },
    {
      "cell_type": "code",
      "execution_count": null,
      "metadata": {
        "colab": {
          "base_uri": "https://localhost:8080/"
        },
        "id": "UmOyGpVJRUfX",
        "outputId": "42cf69be-d3c7-4d10-bf66-6cdfe86bc385"
      },
      "outputs": [],
      "source": [
        "df[df['total floors'] == 'Not Mentioned']"
      ]
    },
    {
      "cell_type": "code",
      "execution_count": null,
      "metadata": {
        "id": "ZDJT3GBKev08"
      },
      "outputs": [],
      "source": [
        "df.replace({'total floors': 'Not Mentioned'}, np.NaN, inplace = True)\n",
        "df = df.dropna()"
      ]
    },
    {
      "cell_type": "code",
      "execution_count": null,
      "metadata": {
        "colab": {
          "base_uri": "https://localhost:8080/"
        },
        "id": "0hNMpd3WTn1U",
        "outputId": "ba7476d2-ed5b-4377-8423-b1b1460b32b6"
      },
      "outputs": [],
      "source": [
        "df['total floors'].unique()"
      ]
    },
    {
      "cell_type": "markdown",
      "metadata": {
        "id": "jfz7dZGyd-0G"
      },
      "source": [
        "# 4.EDA\n",
        "\n",
        "<a href = '#top'>Back on Top </a>"
      ]
    },
    {
      "cell_type": "markdown",
      "metadata": {
        "id": "pPsBV3jDev0_"
      },
      "source": [
        "## EDA of numerical datatypes\n",
        "\n",
        "<a href = '#top'>Back on Top </a>"
      ]
    },
    {
      "cell_type": "code",
      "execution_count": null,
      "metadata": {
        "colab": {
          "base_uri": "https://localhost:8080/"
        },
        "id": "-BveoJGIev09",
        "outputId": "69e30166-ced5-447e-c466-c20658183145",
        "scrolled": true
      },
      "outputs": [],
      "source": [
        "df.info()"
      ]
    },
    {
      "cell_type": "code",
      "execution_count": null,
      "metadata": {
        "id": "cUcBw9Dnev1A",
        "scrolled": true
      },
      "outputs": [],
      "source": [
        "#At last convert all columns contains numerals into integer datatype\n",
        "df['bedrooms'] = df['bedrooms'].astype(int)\n",
        "df['floor'] = df['floor'].astype(int)\n",
        "df['total floors'] = df['total floors'].astype(int)"
      ]
    },
    {
      "cell_type": "code",
      "execution_count": null,
      "metadata": {
        "colab": {
          "base_uri": "https://localhost:8080/"
        },
        "id": "RLoH_iMsev1B",
        "outputId": "64552d8e-6f20-4657-e736-738e6fad9c99"
      },
      "outputs": [],
      "source": [
        "df.head()"
      ]
    },
    {
      "cell_type": "code",
      "execution_count": null,
      "metadata": {
        "id": "s6QS_bkuUawa"
      },
      "outputs": [],
      "source": [
        "def plot_num(df, columns):\n",
        "  data = df\n",
        "\n",
        "  for column in columns:\n",
        "      plt.figure(figsize=(16,4))\n",
        "\n",
        "      plt.subplot(1,3,1)\n",
        "      sns.histplot(data[column], kde=True)\n",
        "      plt.title(f'{column}  Distribution')\n",
        "\n",
        "      plt.subplot(1,3,2)\n",
        "      sns.boxplot(y = data[column], showmeans=True)\n",
        "      plt.title(f'{column}  Distribution')\n",
        "\n",
        "      plt.subplot(1,3,3)\n",
        "      counts, bins = np.histogram(data[column])\n",
        "      cdf = np.cumsum (counts)\n",
        "      plt.plot (bins[1:], cdf/cdf[-1])\n",
        "      plt.yticks(np.arange(0,1.05,.05))\n",
        "      plt.title(f'{column}  cdf')\n",
        "      plt.show()"
      ]
    },
    {
      "cell_type": "code",
      "execution_count": null,
      "metadata": {
        "colab": {
          "base_uri": "https://localhost:8080/"
        },
        "id": "EN3S1CZIci1G",
        "outputId": "fec74eee-1f15-4fc7-b0c6-eeb5b03e3962"
      },
      "outputs": [],
      "source": [
        "int_columns = df.columns[df.dtypes!='object']\n",
        "plot_num(df,int_columns)"
      ]
    },
    {
      "cell_type": "code",
      "execution_count": null,
      "metadata": {
        "colab": {
          "base_uri": "https://localhost:8080/"
        },
        "id": "F-5oH12ZYFJt",
        "outputId": "380e56da-22d9-49f3-d186-40bf5d363874"
      },
      "outputs": [],
      "source": [
        "# Quantiles\n",
        "for column in int_columns:\n",
        "    print(f'For {column}:')\n",
        "\n",
        "    print('3º Quartile:', df[column].quantile(q = 0.75))\n",
        "    print('95 Quantile:', df[column].quantile(q = 0.95))\n",
        "    print('Max:', df[column].quantile(q = 1.00),'\\n')"
      ]
    },
    {
      "cell_type": "code",
      "execution_count": null,
      "metadata": {
        "id": "25V7YOOnXK-K"
      },
      "outputs": [],
      "source": [
        "df['bedrooms'] = df['bedrooms'].apply(lambda x: x if x<5 else 5)\n",
        "df['total floors'] = df['total floors'].apply(lambda x: x if x<41 else 41)"
      ]
    },
    {
      "cell_type": "code",
      "execution_count": null,
      "metadata": {
        "colab": {
          "base_uri": "https://localhost:8080/"
        },
        "id": "p0FWLXRxbozh",
        "outputId": "ddcf25c9-3c75-4140-d384-48eebb324fa0"
      },
      "outputs": [],
      "source": [
        "df['built-up area'].quantile(q = 0.99)"
      ]
    },
    {
      "cell_type": "code",
      "execution_count": null,
      "metadata": {
        "id": "Emu4-B9XbvJV"
      },
      "outputs": [],
      "source": [
        "df.drop(df[df['built-up area']>3500].index, axis=0, inplace=True)"
      ]
    },
    {
      "cell_type": "code",
      "execution_count": null,
      "metadata": {
        "colab": {
          "base_uri": "https://localhost:8080/"
        },
        "id": "0z9lQfm6cUu_",
        "outputId": "a54860e5-8a80-4589-ab53-a0018809d132"
      },
      "outputs": [],
      "source": [
        "int_columns = df.columns[df.dtypes!='object']\n",
        "plot_num(df, int_columns)"
      ]
    },
    {
      "cell_type": "code",
      "execution_count": null,
      "metadata": {
        "colab": {
          "base_uri": "https://localhost:8080/"
        },
        "id": "l2La0uuUeTz2",
        "outputId": "bbbf74c5-e8a8-46af-c20e-36e4b090c7c1"
      },
      "outputs": [],
      "source": [
        "sns.histplot(df['monthly rent'], kde=True)\n",
        "plt.ticklabel_format(style='plain')\n",
        "plt.xticks(rotation=45)\n",
        "plt.show()"
      ]
    },
    {
      "cell_type": "code",
      "execution_count": null,
      "metadata": {
        "colab": {
          "base_uri": "https://localhost:8080/"
        },
        "id": "ak6xkNJ-d-gU",
        "outputId": "42bbe3b2-5832-41ce-a8e8-06596ec56fda"
      },
      "outputs": [],
      "source": [
        "print('95th', df['monthly rent'].quantile(q = 0.95))\n",
        "print('97th', df['monthly rent'].quantile(q = 0.97))\n",
        "print('99th', df['monthly rent'].quantile(q = 0.99))"
      ]
    },
    {
      "cell_type": "code",
      "execution_count": null,
      "metadata": {
        "id": "CP7GZvpkjXTd"
      },
      "outputs": [],
      "source": [
        "df.drop(df[df['monthly rent']>200000].index, axis=0, inplace=True)"
      ]
    },
    {
      "cell_type": "code",
      "execution_count": null,
      "metadata": {
        "colab": {
          "base_uri": "https://localhost:8080/"
        },
        "id": "OzwG17Igl10x",
        "outputId": "32186388-01c6-4e53-dd85-6a734d836b5e"
      },
      "outputs": [],
      "source": [
        "int_columns = df.columns[df.dtypes!='object']\n",
        "plot_num(df, int_columns)"
      ]
    },
    {
      "cell_type": "markdown",
      "metadata": {
        "id": "S84cNk5mev1G"
      },
      "source": [
        "# 5.Exporting now\n",
        "Finally Cleaned Pheww.. :) \n",
        "\n",
        "\n",
        "<a href = '#top'>Back on Top </a>"
      ]
    },
    {
      "cell_type": "code",
      "execution_count": null,
      "metadata": {
        "colab": {
          "base_uri": "https://localhost:8080/",
          "height": 419
        },
        "id": "ULZFnBd1j6T4",
        "outputId": "e914ef2c-4b57-405c-f68c-bcc9521bc5b7"
      },
      "outputs": [],
      "source": [
        "df"
      ]
    },
    {
      "cell_type": "code",
      "execution_count": null,
      "metadata": {
        "id": "XM6iv5EpkLYN"
      },
      "outputs": [],
      "source": [
        "df.to_csv('/content/drive/MyDrive/Datasets/Mumbai_house_rent_99acers/Mumbai_99acers_cleaned.csv', index=False)"
      ]
    },
    {
      "cell_type": "markdown",
      "metadata": {
        "id": "3nUGGRhdgcpt"
      },
      "source": [
        "###Log transformation"
      ]
    },
    {
      "cell_type": "code",
      "execution_count": null,
      "metadata": {
        "id": "Yw4PIMj1gcpv"
      },
      "outputs": [],
      "source": [
        "df1 = df.copy()\n",
        "int_columns = df1.columns[df1.dtypes!='object']\n",
        "\n",
        "for column in int_columns:\n",
        "  df1[column] = df1[column].apply(lambda x: np.log(x) if x!=0 else x)"
      ]
    },
    {
      "cell_type": "code",
      "execution_count": null,
      "metadata": {
        "colab": {
          "base_uri": "https://localhost:8080/",
          "height": 1000
        },
        "id": "96bNP623gcpx",
        "outputId": "b97010aa-acc9-4985-8e04-cea038ca7169"
      },
      "outputs": [],
      "source": [
        "plot_num(df1,int_columns)"
      ]
    },
    {
      "cell_type": "code",
      "execution_count": null,
      "metadata": {
        "id": "3nllFYnNgcp0"
      },
      "outputs": [],
      "source": [
        "df['monthly rent'] = df['monthly rent'].apply(np.log)"
      ]
    },
    {
      "cell_type": "code",
      "execution_count": null,
      "metadata": {
        "id": "SHKqYv3DgoVt"
      },
      "outputs": [],
      "source": [
        "df.to_csv('/content/drive/MyDrive/Datasets/Mumbai_house_rent_99acers/Mumbai_99acers_logtransformed.csv', index=False)"
      ]
    },
    {
      "cell_type": "markdown",
      "metadata": {
        "id": "hI0ib3LVev3A"
      },
      "source": [
        "# Created by: Gaurav Jain\n",
        "\n",
        "<a href = 'https://www.linkedin.com/in/gaurav2022/'> Linkedin </a>\n",
        "\n",
        "<a href = 'https://github.com/G0rav'> Github </a>\n",
        "\n",
        "<a href = 'https://www.kaggle.com/gaurav2022'> Kaggle </a>\n"
      ]
    }
  ],
  "metadata": {
    "colab": {
      "collapsed_sections": [
        "XNUj91Weev0k",
        "hI0ib3LVev3A"
      ],
      "name": "Feature_Engineering_and_EDA.ipynb",
      "provenance": [],
      "toc_visible": true
    },
    "kernelspec": {
      "display_name": "venv",
      "language": "python",
      "name": "python3"
    },
    "language_info": {
      "codemirror_mode": {
        "name": "ipython",
        "version": 3
      },
      "file_extension": ".py",
      "mimetype": "text/x-python",
      "name": "python",
      "nbconvert_exporter": "python",
      "pygments_lexer": "ipython3",
      "version": "3.12.4"
    }
  },
  "nbformat": 4,
  "nbformat_minor": 0
}
